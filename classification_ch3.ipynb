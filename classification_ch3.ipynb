{
  "nbformat": 4,
  "nbformat_minor": 0,
  "metadata": {
    "colab": {
      "name": "classification_ch3.ipynb",
      "version": "0.3.2",
      "provenance": [],
      "include_colab_link": true
    },
    "kernelspec": {
      "name": "python3",
      "display_name": "Python 3"
    }
  },
  "cells": [
    {
      "cell_type": "markdown",
      "metadata": {
        "id": "view-in-github",
        "colab_type": "text"
      },
      "source": [
        "<a href=\"https://colab.research.google.com/github/khlose/homl_ageron/blob/master/classification_ch3.ipynb\" target=\"_parent\"><img src=\"https://colab.research.google.com/assets/colab-badge.svg\" alt=\"Open In Colab\"/></a>"
      ]
    },
    {
      "cell_type": "markdown",
      "metadata": {
        "id": "5o4MSA_njRmx",
        "colab_type": "text"
      },
      "source": [
        "# LOAD MNIST\n"
      ]
    },
    {
      "cell_type": "code",
      "metadata": {
        "id": "3l6svwa-iUlD",
        "colab_type": "code",
        "colab": {}
      },
      "source": [
        "from sklearn.datasets import fetch_openml\n",
        "\n",
        "mnist = fetch_openml(\"mnist_784\")\n"
      ],
      "execution_count": 0,
      "outputs": []
    },
    {
      "cell_type": "markdown",
      "metadata": {
        "id": "HTCSUzsTjP40",
        "colab_type": "text"
      },
      "source": [
        "# Exploring data"
      ]
    },
    {
      "cell_type": "code",
      "metadata": {
        "id": "WCJ3TF3_mCnr",
        "colab_type": "code",
        "colab": {
          "base_uri": "https://localhost:8080/",
          "height": 34
        },
        "outputId": "d2dc1943-b093-4ceb-9693-e489f348d685"
      },
      "source": [
        "\n",
        "X,y = mnist['data'],mnist['target']\n",
        "\n",
        "print(\"X:\" , X.shape , \" Y: \" , y.shape)"
      ],
      "execution_count": 3,
      "outputs": [
        {
          "output_type": "stream",
          "text": [
            "X: (70000, 784)  Y:  (70000,)\n"
          ],
          "name": "stdout"
        }
      ]
    },
    {
      "cell_type": "code",
      "metadata": {
        "id": "Zk5p25mDmWlp",
        "colab_type": "code",
        "colab": {
          "base_uri": "https://localhost:8080/",
          "height": 282
        },
        "outputId": "b4882576-12dd-49c7-b089-f8b4e1bb5f9f"
      },
      "source": [
        "#Print out number\n",
        "%matplotlib inline\n",
        "\n",
        "import matplotlib\n",
        "import matplotlib.pyplot as plt\n",
        "\n",
        "some_digit = X[3500]\n",
        "some_digit_img = some_digit.reshape(28,28)\n",
        "\n",
        "plt.imshow(some_digit_img, cmap = matplotlib.cm.binary, interpolation=\"nearest\")\n",
        "plt.axis(\"off\")\n",
        "plt.show()\n",
        "\n",
        "print(\"Index 5200 is a hand-written of number: \", y[52000])"
      ],
      "execution_count": 4,
      "outputs": [
        {
          "output_type": "display_data",
          "data": {
            "image/png": "[encoded data removed]",
            "text/plain": [
              "<Figure size 432x288 with 1 Axes>"
            ]
          },
          "metadata": {
            "tags": []
          }
        },
        {
          "output_type": "stream",
          "text": [
            "Index 5200 is a hand-written of number:  6\n"
          ],
          "name": "stdout"
        }
      ]
    },
    {
      "cell_type": "markdown",
      "metadata": {
        "id": "TUvOyx0InCki",
        "colab_type": "text"
      },
      "source": [
        "#Splitting Data\n",
        "(Mnist data has already bee splitted into train and test in 60K- 10K ratio)"
      ]
    },
    {
      "cell_type": "code",
      "metadata": {
        "id": "oy881LIOnEek",
        "colab_type": "code",
        "colab": {}
      },
      "source": [
        "X_train, X_test, y_train,y_test = X[:60000],X[60000:],y[:60000],y[60000:]\n",
        "\n",
        "#shuffle as well (ensuring that cross validation fold will be even across all folds)\n",
        "\n",
        "import numpy as np\n",
        "\n",
        "shuffle_index = np.random.permutation(60000)\n",
        "\n",
        "X_train,y_train = X_train[shuffle_index],y_train[shuffle_index]"
      ],
      "execution_count": 0,
      "outputs": []
    },
    {
      "cell_type": "markdown",
      "metadata": {
        "id": "XFkvAzrCpG9x",
        "colab_type": "text"
      },
      "source": [
        "#Simple binary classifier\n"
      ]
    },
    {
      "cell_type": "code",
      "metadata": {
        "id": "Rm3jkj68pJA8",
        "colab_type": "code",
        "colab": {
          "base_uri": "https://localhost:8080/",
          "height": 119
        },
        "outputId": "6de10e09-676a-41ac-8b67-3d2578da0a32"
      },
      "source": [
        "# basically a detector that separate 5 and non-5 digit\n",
        "\n",
        "y_train_5 = y_train == '5'\n",
        "y_test_5 = y_test == '5'\n",
        "\n",
        "\n",
        "from sklearn.linear_model import SGDClassifier\n",
        "\n",
        "sgd_clf = SGDClassifier(random_state = 42)\n",
        "sgd_clf.fit(X_train,y_train_5)"
      ],
      "execution_count": 6,
      "outputs": [
        {
          "output_type": "execute_result",
          "data": {
            "text/plain": [
              "SGDClassifier(alpha=0.0001, average=False, class_weight=None,\n",
              "              early_stopping=False, epsilon=0.1, eta0=0.0, fit_intercept=True,\n",
              "              l1_ratio=0.15, learning_rate='optimal', loss='hinge',\n",
              "              max_iter=1000, n_iter_no_change=5, n_jobs=None, penalty='l2',\n",
              "              power_t=0.5, random_state=42, shuffle=True, tol=0.001,\n",
              "              validation_fraction=0.1, verbose=0, warm_start=False)"
            ]
          },
          "metadata": {
            "tags": []
          },
          "execution_count": 6
        }
      ]
    },
    {
      "cell_type": "code",
      "metadata": {
        "id": "GnDS29b_eiJ7",
        "colab_type": "code",
        "colab": {
          "base_uri": "https://localhost:8080/",
          "height": 34
        },
        "outputId": "85a8f36a-0038-473c-f553-697a796b06da"
      },
      "source": [
        "#predict\n",
        "sgd_clf.predict([some_digit])"
      ],
      "execution_count": 7,
      "outputs": [
        {
          "output_type": "execute_result",
          "data": {
            "text/plain": [
              "array([ True])"
            ]
          },
          "metadata": {
            "tags": []
          },
          "execution_count": 7
        }
      ]
    },
    {
      "cell_type": "markdown",
      "metadata": {
        "id": "KrpOZ3bieqbl",
        "colab_type": "text"
      },
      "source": [
        "# SGD performance measure\n"
      ]
    },
    {
      "cell_type": "code",
      "metadata": {
        "id": "P6PG5rGResb4",
        "colab_type": "code",
        "colab": {
          "base_uri": "https://localhost:8080/",
          "height": 68
        },
        "outputId": "523206e1-b209-4027-f548-524466eed716"
      },
      "source": [
        "# We need more contol over cross-validation process\n",
        "# Implement it myself\n",
        "\n",
        "from sklearn.model_selection import StratifiedKFold\n",
        "from sklearn.base import clone\n",
        "\n",
        "skfolds = StratifiedKFold(n_splits =3,random_state=42)\n",
        "\n",
        "for train_index,test_index in skfolds.split(X_train,y_train_5):\n",
        "  clone_clf = clone(sgd_clf)\n",
        "  X_train_folds = X_train[train_index]\n",
        "  y_train_folds = y_train_5[train_index]\n",
        "  X_test_folds = X_train[test_index]\n",
        "  y_test_folds = y_train_5[test_index]\n",
        "  \n",
        "  clone_clf.fit(X_train_folds,y_train_folds)\n",
        "  y_pred = clone_clf.predict(X_test_folds)\n",
        "  \n",
        "  n_correct = sum(y_pred == y_test_folds)\n",
        "  \n",
        "  print(n_correct/len(y_pred))"
      ],
      "execution_count": 9,
      "outputs": [
        {
          "output_type": "stream",
          "text": [
            "0.9643\n",
            "0.96405\n",
            "0.95305\n"
          ],
          "name": "stdout"
        }
      ]
    },
    {
      "cell_type": "code",
      "metadata": {
        "id": "AOdjgEBvW4fA",
        "colab_type": "code",
        "colab": {
          "base_uri": "https://localhost:8080/",
          "height": 34
        },
        "outputId": "b26521ff-42b7-43ee-f47a-5bd71f4b56ed"
      },
      "source": [
        "#premade cross_val_score\n",
        "\n",
        "from sklearn.model_selection import cross_val_score\n",
        "\n",
        "cross_val_score(sgd_clf,X_train,y_train_5,cv=3,scoring=\"accuracy\")"
      ],
      "execution_count": 11,
      "outputs": [
        {
          "output_type": "execute_result",
          "data": {
            "text/plain": [
              "array([0.9643 , 0.96405, 0.95305])"
            ]
          },
          "metadata": {
            "tags": []
          },
          "execution_count": 11
        }
      ]
    },
    {
      "cell_type": "code",
      "metadata": {
        "id": "x-FzKmpTXhr-",
        "colab_type": "code",
        "colab": {}
      },
      "source": [
        ""
      ],
      "execution_count": 0,
      "outputs": []
    },
    {
      "cell_type": "code",
      "metadata": {
        "id": "8I-tDnfyXhlO",
        "colab_type": "code",
        "colab": {}
      },
      "source": [
        ""
      ],
      "execution_count": 0,
      "outputs": []
    }
  ]
}