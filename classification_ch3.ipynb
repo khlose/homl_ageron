{
  "nbformat": 4,
  "nbformat_minor": 0,
  "metadata": {
    "colab": {
      "name": "classification_ch3.ipynb",
      "version": "0.3.2",
      "provenance": [],
      "include_colab_link": true
    },
    "kernelspec": {
      "name": "python3",
      "display_name": "Python 3"
    }
  },
  "cells": [
    {
      "cell_type": "markdown",
      "metadata": {
        "id": "view-in-github",
        "colab_type": "text"
      },
      "source": [
        "<a href=\"https://colab.research.google.com/github/khlose/homl_ageron/blob/master/classification_ch3.ipynb\" target=\"_parent\"><img src=\"https://colab.research.google.com/assets/colab-badge.svg\" alt=\"Open In Colab\"/></a>"
      ]
    },
    {
      "cell_type": "markdown",
      "metadata": {
        "id": "5o4MSA_njRmx",
        "colab_type": "text"
      },
      "source": [
        "# LOAD MNIST\n"
      ]
    },
    {
      "cell_type": "code",
      "metadata": {
        "id": "3l6svwa-iUlD",
        "colab_type": "code",
        "colab": {}
      },
      "source": [
        "from sklearn.datasets import fetch_openml\n",
        "\n",
        "mnist = fetch_openml(\"mnist_784\")\n"
      ],
      "execution_count": 0,
      "outputs": []
    },
    {
      "cell_type": "markdown",
      "metadata": {
        "id": "HTCSUzsTjP40",
        "colab_type": "text"
      },
      "source": [
        "# Exploring data"
      ]
    },
    {
      "cell_type": "code",
      "metadata": {
        "id": "WCJ3TF3_mCnr",
        "colab_type": "code",
        "outputId": "78edc5b5-9440-48ba-d3e6-d74e2339bb6b",
        "colab": {
          "base_uri": "https://localhost:8080/",
          "height": 34
        }
      },
      "source": [
        "\n",
        "X,y = mnist['data'],mnist['target']\n",
        "\n",
        "print(\"X:\" , X.shape , \" Y: \" , y.shape)"
      ],
      "execution_count": 2,
      "outputs": [
        {
          "output_type": "stream",
          "text": [
            "X: (70000, 784)  Y:  (70000,)\n"
          ],
          "name": "stdout"
        }
      ]
    },
    {
      "cell_type": "code",
      "metadata": {
        "id": "Zk5p25mDmWlp",
        "colab_type": "code",
        "outputId": "0be7e390-b71a-44d6-e58a-5e8ef4f5185a",
        "colab": {
          "base_uri": "https://localhost:8080/",
          "height": 282
        }
      },
      "source": [
        "#Print out number\n",
        "%matplotlib inline\n",
        "\n",
        "import matplotlib\n",
        "import matplotlib.pyplot as plt\n",
        "\n",
        "some_digit = X[3500]\n",
        "some_digit_img = some_digit.reshape(28,28)\n",
        "\n",
        "plt.imshow(some_digit_img, cmap = matplotlib.cm.binary, interpolation=\"nearest\")\n",
        "plt.axis(\"off\")\n",
        "plt.show()\n",
        "\n",
        "print(\"Index 5200 is a hand-written of number: \", y[52000])"
      ],
      "execution_count": 3,
      "outputs": [
        {
          "output_type": "display_data",
          "data": {
            "image/png": "[encoded data removed]",
            "text/plain": [
              "<Figure size 432x288 with 1 Axes>"
            ]
          },
          "metadata": {
            "tags": []
          }
        },
        {
          "output_type": "stream",
          "text": [
            "Index 5200 is a hand-written of number:  6\n"
          ],
          "name": "stdout"
        }
      ]
    },
    {
      "cell_type": "markdown",
      "metadata": {
        "id": "TUvOyx0InCki",
        "colab_type": "text"
      },
      "source": [
        "#Splitting Data\n",
        "(Mnist data has already bee splitted into train and test in 60K- 10K ratio)"
      ]
    },
    {
      "cell_type": "code",
      "metadata": {
        "id": "oy881LIOnEek",
        "colab_type": "code",
        "colab": {}
      },
      "source": [
        "X_train, X_test, y_train,y_test = X[:60000],X[60000:],y[:60000],y[60000:]\n",
        "\n",
        "#shuffle as well (ensuring that cross validation fold will be even across all folds)\n",
        "\n",
        "import numpy as np\n",
        "\n",
        "shuffle_index = np.random.permutation(60000)\n",
        "\n",
        "X_train,y_train = X_train[shuffle_index],y_train[shuffle_index]"
      ],
      "execution_count": 0,
      "outputs": []
    },
    {
      "cell_type": "markdown",
      "metadata": {
        "id": "XFkvAzrCpG9x",
        "colab_type": "text"
      },
      "source": [
        "#Simple binary classifier\n"
      ]
    },
    {
      "cell_type": "code",
      "metadata": {
        "id": "Rm3jkj68pJA8",
        "colab_type": "code",
        "outputId": "4dc7cdba-3637-4604-9b19-75146a88b676",
        "colab": {
          "base_uri": "https://localhost:8080/",
          "height": 119
        }
      },
      "source": [
        "# basically a detector that separate 5 and non-5 digit\n",
        "\n",
        "y_train_5 = y_train == '5'\n",
        "y_test_5 = y_test == '5'\n",
        "\n",
        "\n",
        "from sklearn.linear_model import SGDClassifier\n",
        "\n",
        "sgd_clf = SGDClassifier(random_state = 42)\n",
        "sgd_clf.fit(X_train,y_train_5)"
      ],
      "execution_count": 5,
      "outputs": [
        {
          "output_type": "execute_result",
          "data": {
            "text/plain": [
              "SGDClassifier(alpha=0.0001, average=False, class_weight=None,\n",
              "              early_stopping=False, epsilon=0.1, eta0=0.0, fit_intercept=True,\n",
              "              l1_ratio=0.15, learning_rate='optimal', loss='hinge',\n",
              "              max_iter=1000, n_iter_no_change=5, n_jobs=None, penalty='l2',\n",
              "              power_t=0.5, random_state=42, shuffle=True, tol=0.001,\n",
              "              validation_fraction=0.1, verbose=0, warm_start=False)"
            ]
          },
          "metadata": {
            "tags": []
          },
          "execution_count": 5
        }
      ]
    },
    {
      "cell_type": "code",
      "metadata": {
        "id": "GnDS29b_eiJ7",
        "colab_type": "code",
        "outputId": "38aaec36-4c7c-42ef-9e26-77e6ed146f6d",
        "colab": {
          "base_uri": "https://localhost:8080/",
          "height": 34
        }
      },
      "source": [
        "#predict\n",
        "sgd_clf.predict([some_digit])"
      ],
      "execution_count": 6,
      "outputs": [
        {
          "output_type": "execute_result",
          "data": {
            "text/plain": [
              "array([ True])"
            ]
          },
          "metadata": {
            "tags": []
          },
          "execution_count": 6
        }
      ]
    },
    {
      "cell_type": "markdown",
      "metadata": {
        "id": "KrpOZ3bieqbl",
        "colab_type": "text"
      },
      "source": [
        "# SGD performance measure\n"
      ]
    },
    {
      "cell_type": "code",
      "metadata": {
        "id": "P6PG5rGResb4",
        "colab_type": "code",
        "outputId": "17b9d025-192e-433b-a3fb-d73949247b80",
        "colab": {
          "base_uri": "https://localhost:8080/",
          "height": 68
        }
      },
      "source": [
        "# We need more contol over cross-validation process\n",
        "# Implement it myself\n",
        "\n",
        "from sklearn.model_selection import StratifiedKFold\n",
        "from sklearn.base import clone\n",
        "\n",
        "skfolds = StratifiedKFold(n_splits =3,random_state=42)\n",
        "\n",
        "for train_index,test_index in skfolds.split(X_train,y_train_5):\n",
        "  clone_clf = clone(sgd_clf)\n",
        "  X_train_folds = X_train[train_index]\n",
        "  y_train_folds = y_train_5[train_index]\n",
        "  X_test_folds = X_train[test_index]\n",
        "  y_test_folds = y_train_5[test_index]\n",
        "  \n",
        "  clone_clf.fit(X_train_folds,y_train_folds)\n",
        "  y_pred = clone_clf.predict(X_test_folds)\n",
        "  \n",
        "  n_correct = sum(y_pred == y_test_folds)\n",
        "  \n",
        "  print(n_correct/len(y_pred))"
      ],
      "execution_count": 7,
      "outputs": [
        {
          "output_type": "stream",
          "text": [
            "0.9375\n",
            "0.96605\n",
            "0.96045\n"
          ],
          "name": "stdout"
        }
      ]
    },
    {
      "cell_type": "code",
      "metadata": {
        "id": "AOdjgEBvW4fA",
        "colab_type": "code",
        "outputId": "68d5b130-fb78-492a-a12e-70f60a41bfcb",
        "colab": {
          "base_uri": "https://localhost:8080/",
          "height": 34
        }
      },
      "source": [
        "#premade cross_val_score\n",
        "\n",
        "from sklearn.model_selection import cross_val_score\n",
        "\n",
        "cross_val_score(sgd_clf,X_train,y_train_5,cv=3,scoring=\"accuracy\")"
      ],
      "execution_count": 8,
      "outputs": [
        {
          "output_type": "execute_result",
          "data": {
            "text/plain": [
              "array([0.9375 , 0.96605, 0.96045])"
            ]
          },
          "metadata": {
            "tags": []
          },
          "execution_count": 8
        }
      ]
    },
    {
      "cell_type": "code",
      "metadata": {
        "id": "x-FzKmpTXhr-",
        "colab_type": "code",
        "outputId": "2274701a-f217-442c-87e2-ae319aafa314",
        "colab": {
          "base_uri": "https://localhost:8080/",
          "height": 34
        }
      },
      "source": [
        "#try out an estimator that always return false,\n",
        "#the accuracy of this one is also at about 90%!,\n",
        "#the reason is the amount of 5 is 10% of all numbers.\n",
        "#this is why accuracy is not always the best measurement\n",
        "from sklearn.base import BaseEstimator\n",
        "\n",
        "class Never5Classifier(BaseEstimator):\n",
        "  def fit(self,X,y=None):\n",
        "    pass\n",
        "  def predict(self,X):\n",
        "    return np.zeros((len(X),1),dtype=bool)\n",
        "\n",
        "never_5_clf = Never5Classifier()\n",
        "\n",
        "cross_val_score(never_5_clf,X_train,y_train_5,cv=3,scoring=\"accuracy\")"
      ],
      "execution_count": 9,
      "outputs": [
        {
          "output_type": "execute_result",
          "data": {
            "text/plain": [
              "array([0.91155, 0.90885, 0.90855])"
            ]
          },
          "metadata": {
            "tags": []
          },
          "execution_count": 9
        }
      ]
    },
    {
      "cell_type": "markdown",
      "metadata": {
        "id": "U5uCItl5cXX9",
        "colab_type": "text"
      },
      "source": [
        "# Confusion Matrix"
      ]
    },
    {
      "cell_type": "code",
      "metadata": {
        "id": "DRSXWXLfcZun",
        "colab_type": "code",
        "outputId": "3ef364d6-7c1c-4f77-de01-7d17a37b0c84",
        "colab": {
          "base_uri": "https://localhost:8080/",
          "height": 51
        }
      },
      "source": [
        "#basically measure the frequency of mis-prediction\n",
        "#class 5's being identified as class 3's\n",
        "\n",
        "from sklearn.model_selection import cross_val_predict\n",
        "from sklearn.metrics import confusion_matrix\n",
        "\n",
        "\n",
        "y_train_predict = cross_val_predict(sgd_clf,X_train,y_train_5,cv=3)\n",
        "\n",
        "confusion_matrix(y_train_5, y_train_predict)"
      ],
      "execution_count": 10,
      "outputs": [
        {
          "output_type": "execute_result",
          "data": {
            "text/plain": [
              "array([[52814,  1765],\n",
              "       [  955,  4466]])"
            ]
          },
          "metadata": {
            "tags": []
          },
          "execution_count": 10
        }
      ]
    },
    {
      "cell_type": "markdown",
      "metadata": {
        "id": "VEt9Z-jGZgsg",
        "colab_type": "text"
      },
      "source": [
        "# Performance measurement\n"
      ]
    },
    {
      "cell_type": "code",
      "metadata": {
        "id": "AeMp6OgIZgIA",
        "colab_type": "code",
        "colab": {
          "base_uri": "https://localhost:8080/",
          "height": 34
        },
        "outputId": "3b513240-492a-4351-d3c4-6b7519ea39e6"
      },
      "source": [
        "# precision and recall\n",
        "\n",
        "from sklearn.metrics import precision_score, recall_score\n",
        "\n",
        "precision = precision_score(y_train_5,y_train_predict)\n",
        "recall = recall_score(y_train_5,y_train_predict)\n",
        "\n",
        "#print(precision, recall)\n",
        "# 0.7167388862140909 0.8238332410994281\n",
        "# this means it was righ 72 percent of the time and could only detect\n",
        "# 82 percent of all the 5's\n"
      ],
      "execution_count": 14,
      "outputs": [
        {
          "output_type": "stream",
          "text": [
            "0.7167388862140909 0.8238332410994281\n"
          ],
          "name": "stdout"
        }
      ]
    },
    {
      "cell_type": "code",
      "metadata": {
        "id": "jYPQ4_s-kbDG",
        "colab_type": "code",
        "colab": {
          "base_uri": "https://localhost:8080/",
          "height": 34
        },
        "outputId": "04d6abef-44ae-4db6-edba-bd2df433cb0b"
      },
      "source": [
        "from sklearn.metrics import f1_score\n",
        "\n",
        "f1 = f1_score(y_train_5, y_train_predict)\n",
        "print(f1)"
      ],
      "execution_count": 16,
      "outputs": [
        {
          "output_type": "stream",
          "text": [
            "0.7665636800549264\n"
          ],
          "name": "stdout"
        }
      ]
    },
    {
      "cell_type": "markdown",
      "metadata": {
        "id": "9k9DWJDWkmd1",
        "colab_type": "text"
      },
      "source": [
        "# Tuning recall and precision trade-off\n"
      ]
    },
    {
      "cell_type": "code",
      "metadata": {
        "id": "1pkh5zkEkq26",
        "colab_type": "code",
        "colab": {
          "base_uri": "https://localhost:8080/",
          "height": 283
        },
        "outputId": "74509e49-ae3a-4921-fe03-92f9077256bb"
      },
      "source": [
        "#see the precision/recall tradeoff curve\n",
        "\n",
        "from sklearn.metrics import precision_recall_curve\n",
        "\n",
        "y_scores = cross_val_predict(sgd_clf,X_train,y_train_5,cv=3,method=\"decision_function\")\n",
        "precisions,recalls,thresholds = precision_recall_curve(y_train_5, y_scores)\n",
        "\n",
        "\n",
        "#plot the curve\n",
        "\n",
        "def plot_precision_recall_vs_threshold(precisions,recalls,thresholds):\n",
        "  plt.plot(thresholds,precisions[:-1],\"b--\",label=\"Precision\")\n",
        "  plt.plot(thresholds,recalls[:-1],\"r-\",label=\"Recalls\")\n",
        "  plt.xlabel(\"treshold\")\n",
        "  plt.legend(loc=\"center left\")\n",
        "  plt.ylim([0,1])\n",
        "  \n",
        "plot_precision_recall_vs_threshold(precisions,recalls,thresholds)\n",
        "plt.show()\n",
        "#adjusting threshold to get better (or worse) precision/recall"
      ],
      "execution_count": 20,
      "outputs": [
        {
          "output_type": "display_data",
          "data": {
            "image/png": "[encoded data removed]",
            "text/plain": [
              "<Figure size 432x288 with 1 Axes>"
            ]
          },
          "metadata": {
            "tags": []
          }
        }
      ]
    }
  ]
}